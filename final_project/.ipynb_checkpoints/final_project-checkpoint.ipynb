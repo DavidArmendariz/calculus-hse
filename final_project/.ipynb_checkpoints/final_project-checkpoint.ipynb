{
 "cells": [
  {
   "cell_type": "markdown",
   "metadata": {},
   "source": [
    "# Week 6. Optimization. Programming Task"
   ]
  },
  {
   "cell_type": "markdown",
   "metadata": {},
   "source": [
    "### For grading"
   ]
  },
  {
   "cell_type": "code",
   "execution_count": 1,
   "metadata": {},
   "outputs": [
    {
     "ename": "ModuleNotFoundError",
     "evalue": "No module named 'grading'",
     "output_type": "error",
     "traceback": [
      "\u001b[0;31m---------------------------------------------------------------------------\u001b[0m",
      "\u001b[0;31mModuleNotFoundError\u001b[0m                       Traceback (most recent call last)",
      "\u001b[0;32m<ipython-input-1-4db9bc4006ab>\u001b[0m in \u001b[0;36m<module>\u001b[0;34m\u001b[0m\n\u001b[1;32m      1\u001b[0m \u001b[0;31m#DO NOT CHANGE\u001b[0m\u001b[0;34m\u001b[0m\u001b[0;34m\u001b[0m\u001b[0;34m\u001b[0m\u001b[0m\n\u001b[0;32m----> 2\u001b[0;31m \u001b[0;32mimport\u001b[0m \u001b[0mgrading\u001b[0m\u001b[0;34m\u001b[0m\u001b[0;34m\u001b[0m\u001b[0m\n\u001b[0m\u001b[1;32m      3\u001b[0m \u001b[0;32mimport\u001b[0m \u001b[0mgrading_utils\u001b[0m\u001b[0;34m\u001b[0m\u001b[0;34m\u001b[0m\u001b[0m\n",
      "\u001b[0;31mModuleNotFoundError\u001b[0m: No module named 'grading'"
     ]
    }
   ],
   "source": [
    "#DO NOT CHANGE\n",
    "import grading\n",
    "import grading_utils"
   ]
  },
  {
   "cell_type": "code",
   "execution_count": 2,
   "metadata": {},
   "outputs": [
    {
     "ename": "NameError",
     "evalue": "name 'grading' is not defined",
     "output_type": "error",
     "traceback": [
      "\u001b[0;31m---------------------------------------------------------------------------\u001b[0m",
      "\u001b[0;31mNameError\u001b[0m                                 Traceback (most recent call last)",
      "\u001b[0;32m<ipython-input-2-52d5e6a7b521>\u001b[0m in \u001b[0;36m<module>\u001b[0;34m\u001b[0m\n\u001b[1;32m      1\u001b[0m \u001b[0;31m#DO NOT CHANGE\u001b[0m\u001b[0;34m\u001b[0m\u001b[0;34m\u001b[0m\u001b[0;34m\u001b[0m\u001b[0m\n\u001b[0;32m----> 2\u001b[0;31m grader = grading.Grader(assignment_key=\"BiQjKqu3RIyxwEW4WigmgA\", \n\u001b[0m\u001b[1;32m      3\u001b[0m                         all_parts=[\"C2ep5\", \"AVd3G\", \"Dkq1F\", \"OUwhX\", \"vjKMj\", \"uWwHK\"])\n",
      "\u001b[0;31mNameError\u001b[0m: name 'grading' is not defined"
     ]
    }
   ],
   "source": [
    "#DO NOT CHANGE\n",
    "grader = grading.Grader(assignment_key=\"BiQjKqu3RIyxwEW4WigmgA\", \n",
    "                        all_parts=[\"C2ep5\", \"AVd3G\", \"Dkq1F\", \"OUwhX\", \"vjKMj\", \"uWwHK\"])"
   ]
  },
  {
   "cell_type": "code",
   "execution_count": 3,
   "metadata": {},
   "outputs": [],
   "source": [
    "# token expires every 30 min\n",
    "COURSERA_TOKEN = \"WG2fdsfKbJn8W2fb\"\n",
    "COURSERA_EMAIL = \"darmendariz1998@outlook.com\""
   ]
  },
  {
   "cell_type": "markdown",
   "metadata": {},
   "source": [
    "Let us consider the **House Pricing** dataset, where you have a lot of information about the houses being sold and you aim to produce the price of the house. \n",
    "\n",
    "**To submit your answers you will need to copy your token from next task ‘Programming: Final project’.**\n",
    "\n",
    "**NOTE: you should write an optimal code: try avoiding cycles and use `numpy` instead! Optimality of your code will be graded out of 2 points**\n",
    "\n",
    "Firstly, let us import basic libraries (`numpy` ([docs](https://numpy.org/)) for matrix operations and `pandas` ([docs](https://pandas.pydata.org/)) for convinient dataset workaround):"
   ]
  },
  {
   "cell_type": "code",
   "execution_count": 4,
   "metadata": {},
   "outputs": [],
   "source": [
    "import numpy as np\n",
    "import pandas as pd"
   ]
  },
  {
   "cell_type": "markdown",
   "metadata": {},
   "source": [
    "### Task 1. Reading "
   ]
  },
  {
   "cell_type": "code",
   "execution_count": 5,
   "metadata": {},
   "outputs": [
    {
     "data": {
      "text/html": [
       "<div>\n",
       "<style scoped>\n",
       "    .dataframe tbody tr th:only-of-type {\n",
       "        vertical-align: middle;\n",
       "    }\n",
       "\n",
       "    .dataframe tbody tr th {\n",
       "        vertical-align: top;\n",
       "    }\n",
       "\n",
       "    .dataframe thead th {\n",
       "        text-align: right;\n",
       "    }\n",
       "</style>\n",
       "<table border=\"1\" class=\"dataframe\">\n",
       "  <thead>\n",
       "    <tr style=\"text-align: right;\">\n",
       "      <th></th>\n",
       "      <th>date</th>\n",
       "      <th>bedrooms</th>\n",
       "      <th>bathrooms</th>\n",
       "      <th>sqft_living</th>\n",
       "      <th>sqft_lot</th>\n",
       "      <th>floors</th>\n",
       "      <th>waterfront</th>\n",
       "      <th>condition</th>\n",
       "      <th>grade</th>\n",
       "      <th>sqft_above</th>\n",
       "      <th>sqft_basement</th>\n",
       "      <th>yr_built</th>\n",
       "      <th>yr_renovated</th>\n",
       "      <th>zipcode</th>\n",
       "      <th>lat</th>\n",
       "      <th>long</th>\n",
       "    </tr>\n",
       "  </thead>\n",
       "  <tbody>\n",
       "    <tr>\n",
       "      <th>0</th>\n",
       "      <td>2014-09-16</td>\n",
       "      <td>5.0</td>\n",
       "      <td>3.25</td>\n",
       "      <td>3710</td>\n",
       "      <td>34200</td>\n",
       "      <td>2.0</td>\n",
       "      <td>False</td>\n",
       "      <td>3</td>\n",
       "      <td>8</td>\n",
       "      <td>2510</td>\n",
       "      <td>1200</td>\n",
       "      <td>1986</td>\n",
       "      <td>0</td>\n",
       "      <td>98074</td>\n",
       "      <td>47.610100</td>\n",
       "      <td>-122.046997</td>\n",
       "    </tr>\n",
       "    <tr>\n",
       "      <th>1</th>\n",
       "      <td>2014-11-18</td>\n",
       "      <td>3.0</td>\n",
       "      <td>1.75</td>\n",
       "      <td>2820</td>\n",
       "      <td>8879</td>\n",
       "      <td>1.0</td>\n",
       "      <td>False</td>\n",
       "      <td>5</td>\n",
       "      <td>7</td>\n",
       "      <td>1540</td>\n",
       "      <td>1280</td>\n",
       "      <td>1920</td>\n",
       "      <td>1957</td>\n",
       "      <td>98146</td>\n",
       "      <td>47.509399</td>\n",
       "      <td>-122.375999</td>\n",
       "    </tr>\n",
       "    <tr>\n",
       "      <th>2</th>\n",
       "      <td>2014-11-10</td>\n",
       "      <td>3.0</td>\n",
       "      <td>1.00</td>\n",
       "      <td>1240</td>\n",
       "      <td>239144</td>\n",
       "      <td>1.0</td>\n",
       "      <td>False</td>\n",
       "      <td>3</td>\n",
       "      <td>6</td>\n",
       "      <td>1240</td>\n",
       "      <td>0</td>\n",
       "      <td>1921</td>\n",
       "      <td>1992</td>\n",
       "      <td>98038</td>\n",
       "      <td>47.430302</td>\n",
       "      <td>-122.045998</td>\n",
       "    </tr>\n",
       "    <tr>\n",
       "      <th>3</th>\n",
       "      <td>2015-04-16</td>\n",
       "      <td>4.0</td>\n",
       "      <td>2.50</td>\n",
       "      <td>2670</td>\n",
       "      <td>8279</td>\n",
       "      <td>2.0</td>\n",
       "      <td>False</td>\n",
       "      <td>3</td>\n",
       "      <td>7</td>\n",
       "      <td>2670</td>\n",
       "      <td>0</td>\n",
       "      <td>1999</td>\n",
       "      <td>0</td>\n",
       "      <td>98148</td>\n",
       "      <td>47.429199</td>\n",
       "      <td>-122.328003</td>\n",
       "    </tr>\n",
       "    <tr>\n",
       "      <th>4</th>\n",
       "      <td>2014-07-23</td>\n",
       "      <td>3.0</td>\n",
       "      <td>2.25</td>\n",
       "      <td>2700</td>\n",
       "      <td>4025</td>\n",
       "      <td>2.0</td>\n",
       "      <td>False</td>\n",
       "      <td>4</td>\n",
       "      <td>8</td>\n",
       "      <td>1760</td>\n",
       "      <td>940</td>\n",
       "      <td>1907</td>\n",
       "      <td>0</td>\n",
       "      <td>98122</td>\n",
       "      <td>47.607399</td>\n",
       "      <td>-122.293999</td>\n",
       "    </tr>\n",
       "    <tr>\n",
       "      <th>...</th>\n",
       "      <td>...</td>\n",
       "      <td>...</td>\n",
       "      <td>...</td>\n",
       "      <td>...</td>\n",
       "      <td>...</td>\n",
       "      <td>...</td>\n",
       "      <td>...</td>\n",
       "      <td>...</td>\n",
       "      <td>...</td>\n",
       "      <td>...</td>\n",
       "      <td>...</td>\n",
       "      <td>...</td>\n",
       "      <td>...</td>\n",
       "      <td>...</td>\n",
       "      <td>...</td>\n",
       "      <td>...</td>\n",
       "    </tr>\n",
       "    <tr>\n",
       "      <th>14995</th>\n",
       "      <td>2014-05-21</td>\n",
       "      <td>4.0</td>\n",
       "      <td>2.75</td>\n",
       "      <td>2290</td>\n",
       "      <td>6120</td>\n",
       "      <td>2.0</td>\n",
       "      <td>False</td>\n",
       "      <td>4</td>\n",
       "      <td>7</td>\n",
       "      <td>2170</td>\n",
       "      <td>120</td>\n",
       "      <td>1926</td>\n",
       "      <td>0</td>\n",
       "      <td>98115</td>\n",
       "      <td>47.674599</td>\n",
       "      <td>-122.327003</td>\n",
       "    </tr>\n",
       "    <tr>\n",
       "      <th>14996</th>\n",
       "      <td>2015-04-01</td>\n",
       "      <td>3.0</td>\n",
       "      <td>2.00</td>\n",
       "      <td>1430</td>\n",
       "      <td>9250</td>\n",
       "      <td>1.0</td>\n",
       "      <td>False</td>\n",
       "      <td>4</td>\n",
       "      <td>8</td>\n",
       "      <td>990</td>\n",
       "      <td>440</td>\n",
       "      <td>1983</td>\n",
       "      <td>0</td>\n",
       "      <td>98052</td>\n",
       "      <td>47.695202</td>\n",
       "      <td>-122.096001</td>\n",
       "    </tr>\n",
       "    <tr>\n",
       "      <th>14997</th>\n",
       "      <td>2014-07-11</td>\n",
       "      <td>2.0</td>\n",
       "      <td>1.00</td>\n",
       "      <td>640</td>\n",
       "      <td>7768</td>\n",
       "      <td>1.0</td>\n",
       "      <td>False</td>\n",
       "      <td>3</td>\n",
       "      <td>6</td>\n",
       "      <td>640</td>\n",
       "      <td>0</td>\n",
       "      <td>1942</td>\n",
       "      <td>0</td>\n",
       "      <td>98106</td>\n",
       "      <td>47.514999</td>\n",
       "      <td>-122.359001</td>\n",
       "    </tr>\n",
       "    <tr>\n",
       "      <th>14998</th>\n",
       "      <td>2014-05-15</td>\n",
       "      <td>3.0</td>\n",
       "      <td>1.00</td>\n",
       "      <td>1630</td>\n",
       "      <td>10304</td>\n",
       "      <td>1.0</td>\n",
       "      <td>False</td>\n",
       "      <td>5</td>\n",
       "      <td>7</td>\n",
       "      <td>1630</td>\n",
       "      <td>0</td>\n",
       "      <td>1953</td>\n",
       "      <td>0</td>\n",
       "      <td>98155</td>\n",
       "      <td>47.754799</td>\n",
       "      <td>-122.317001</td>\n",
       "    </tr>\n",
       "    <tr>\n",
       "      <th>14999</th>\n",
       "      <td>2014-11-20</td>\n",
       "      <td>2.0</td>\n",
       "      <td>1.00</td>\n",
       "      <td>720</td>\n",
       "      <td>4592</td>\n",
       "      <td>1.0</td>\n",
       "      <td>False</td>\n",
       "      <td>4</td>\n",
       "      <td>6</td>\n",
       "      <td>720</td>\n",
       "      <td>0</td>\n",
       "      <td>1943</td>\n",
       "      <td>0</td>\n",
       "      <td>98199</td>\n",
       "      <td>47.653400</td>\n",
       "      <td>-122.403999</td>\n",
       "    </tr>\n",
       "  </tbody>\n",
       "</table>\n",
       "<p>15000 rows × 16 columns</p>\n",
       "</div>"
      ],
      "text/plain": [
       "             date  bedrooms  bathrooms  sqft_living  sqft_lot  floors  \\\n",
       "0      2014-09-16       5.0       3.25         3710     34200     2.0   \n",
       "1      2014-11-18       3.0       1.75         2820      8879     1.0   \n",
       "2      2014-11-10       3.0       1.00         1240    239144     1.0   \n",
       "3      2015-04-16       4.0       2.50         2670      8279     2.0   \n",
       "4      2014-07-23       3.0       2.25         2700      4025     2.0   \n",
       "...           ...       ...        ...          ...       ...     ...   \n",
       "14995  2014-05-21       4.0       2.75         2290      6120     2.0   \n",
       "14996  2015-04-01       3.0       2.00         1430      9250     1.0   \n",
       "14997  2014-07-11       2.0       1.00          640      7768     1.0   \n",
       "14998  2014-05-15       3.0       1.00         1630     10304     1.0   \n",
       "14999  2014-11-20       2.0       1.00          720      4592     1.0   \n",
       "\n",
       "       waterfront  condition  grade  sqft_above  sqft_basement  yr_built  \\\n",
       "0           False          3      8        2510           1200      1986   \n",
       "1           False          5      7        1540           1280      1920   \n",
       "2           False          3      6        1240              0      1921   \n",
       "3           False          3      7        2670              0      1999   \n",
       "4           False          4      8        1760            940      1907   \n",
       "...           ...        ...    ...         ...            ...       ...   \n",
       "14995       False          4      7        2170            120      1926   \n",
       "14996       False          4      8         990            440      1983   \n",
       "14997       False          3      6         640              0      1942   \n",
       "14998       False          5      7        1630              0      1953   \n",
       "14999       False          4      6         720              0      1943   \n",
       "\n",
       "       yr_renovated  zipcode        lat        long  \n",
       "0                 0    98074  47.610100 -122.046997  \n",
       "1              1957    98146  47.509399 -122.375999  \n",
       "2              1992    98038  47.430302 -122.045998  \n",
       "3                 0    98148  47.429199 -122.328003  \n",
       "4                 0    98122  47.607399 -122.293999  \n",
       "...             ...      ...        ...         ...  \n",
       "14995             0    98115  47.674599 -122.327003  \n",
       "14996             0    98052  47.695202 -122.096001  \n",
       "14997             0    98106  47.514999 -122.359001  \n",
       "14998             0    98155  47.754799 -122.317001  \n",
       "14999             0    98199  47.653400 -122.403999  \n",
       "\n",
       "[15000 rows x 16 columns]"
      ]
     },
     "execution_count": 5,
     "metadata": {},
     "output_type": "execute_result"
    }
   ],
   "source": [
    "datX=np.load('x_train.npy')\n",
    "datY=np.log(np.load('y_train.npy'))\n",
    "datX=pd.DataFrame(datX, columns=datX.dtype.names)\n",
    "datX"
   ]
  },
  {
   "cell_type": "markdown",
   "metadata": {},
   "source": [
    "Okay, we manage to load the data (you can read more about the `load` [here](https://docs.scipy.org/doc/numpy/reference/generated/numpy.load.html). But it is not a necessity). We are going to use linear models to work with it, but firstly we need to come up with idea what features should we include in the model at all (which feature the price is lineary dependent on):"
   ]
  },
  {
   "cell_type": "markdown",
   "metadata": {},
   "source": [
    "Do not forget to install seaborn. You can do that by running `pip install seaborn` in the command line locally, or simply by running the next sell:"
   ]
  },
  {
   "cell_type": "code",
   "execution_count": 6,
   "metadata": {},
   "outputs": [
    {
     "name": "stdout",
     "output_type": "stream",
     "text": [
      "Defaulting to user installation because normal site-packages is not writeable\n",
      "Requirement already satisfied: seaborn in /home/david/.local/lib/python3.6/site-packages (0.10.1)\n",
      "Requirement already satisfied: pandas>=0.22.0 in /home/david/.local/lib/python3.6/site-packages (from seaborn) (1.0.3)\n",
      "Requirement already satisfied: scipy>=1.0.1 in /home/david/.local/lib/python3.6/site-packages (from seaborn) (1.4.1)\n",
      "Requirement already satisfied: numpy>=1.13.3 in /home/david/.local/lib/python3.6/site-packages (from seaborn) (1.18.2)\n",
      "Requirement already satisfied: matplotlib>=2.1.2 in /home/david/.local/lib/python3.6/site-packages (from seaborn) (3.2.1)\n",
      "Requirement already satisfied: pytz>=2017.2 in /usr/lib/python3/dist-packages (from pandas>=0.22.0->seaborn) (2018.3)\n",
      "Requirement already satisfied: python-dateutil>=2.6.1 in /usr/lib/python3/dist-packages (from pandas>=0.22.0->seaborn) (2.6.1)\n",
      "Requirement already satisfied: pyparsing!=2.0.4,!=2.1.2,!=2.1.6,>=2.0.1 in /home/david/.local/lib/python3.6/site-packages (from matplotlib>=2.1.2->seaborn) (2.4.6)\n",
      "Requirement already satisfied: kiwisolver>=1.0.1 in /home/david/.local/lib/python3.6/site-packages (from matplotlib>=2.1.2->seaborn) (1.2.0)\n",
      "Requirement already satisfied: cycler>=0.10 in /home/david/.local/lib/python3.6/site-packages (from matplotlib>=2.1.2->seaborn) (0.10.0)\n",
      "Requirement already satisfied: six in /home/david/.local/lib/python3.6/site-packages (from cycler>=0.10->matplotlib>=2.1.2->seaborn) (1.14.0)\n",
      "\u001b[33mWARNING: You are using pip version 20.0.2; however, version 20.1 is available.\n",
      "You should consider upgrading via the '/usr/bin/python3 -m pip install --upgrade pip' command.\u001b[0m\n"
     ]
    }
   ],
   "source": [
    "!pip install seaborn"
   ]
  },
  {
   "cell_type": "markdown",
   "metadata": {},
   "source": [
    "In order to do it let us plot every feature vs the price. Firstly, we import nice plotting modules:"
   ]
  },
  {
   "cell_type": "code",
   "execution_count": 7,
   "metadata": {},
   "outputs": [],
   "source": [
    "import matplotlib.pyplot as plt\n",
    "import seaborn as sns\n",
    "sns.set()\n",
    "\n",
    "%matplotlib inline"
   ]
  },
  {
   "cell_type": "code",
   "execution_count": 8,
   "metadata": {},
   "outputs": [
    {
     "data": {
      "image/png": "[encoded data removed]",
      "text/plain": [
       "<Figure size 1152x1152 with 16 Axes>"
      ]
     },
     "metadata": {
      "needs_background": "light"
     },
     "output_type": "display_data"
    }
   ],
   "source": [
    "f, ax=plt.subplots(4, 4, figsize=(16,16))\n",
    "\n",
    "for i, name in enumerate(datX.columns):\n",
    "    ax[i//4][i%4].scatter(datX[name], datY)\n",
    "    ax[i//4][i%4].set_title(name)"
   ]
  },
  {
   "cell_type": "markdown",
   "metadata": {},
   "source": [
    "Let us say, that we choose to work the following set of features:\n",
    "+ `bedrooms`\n",
    "+ `bathrooms`\n",
    "+ `sqft_living`\n",
    "+ `floors`\n",
    "+ `condition`\n",
    "+ `grade`\n",
    "+ `sqft_above`\n",
    "+ `sqft_basement`\n",
    "+ `long`\n",
    "+ `lat`\n",
    "\n",
    "Clear the dataset from all the other features and create:\n",
    "1. matrix $X$, all elements should be real numbers\n",
    "2. number $N$ -- number of considered houses\n",
    "3. number $m$ -- number of new features\n",
    "\n",
    "**Hint**: it is easier to clean columns from dataset (you should look [here](https://pandas.pydata.org/pandas-docs/stable/user_guide/indexing.html) for insipration) and the get a matrix with `.values`"
   ]
  },
  {
   "cell_type": "code",
   "execution_count": 9,
   "metadata": {},
   "outputs": [],
   "source": [
    "#your code goes here\n",
    "X = datX[[\"bedrooms\", \"bathrooms\", \"sqft_living\", \"floors\", \"condition\", \"grade\", \"sqft_above\", \"sqft_basement\",\n",
    "         \"long\", \"lat\"]].values\n",
    "# X=datX.drop(columns=[\"date\", \"sqft_lot\", \"waterfront\", \"yr_built\", \"yr_renovated\", \"zipcode\"]).values\n",
    "N, m = X.shape"
   ]
  },
  {
   "cell_type": "markdown",
   "metadata": {},
   "source": [
    "Run the following cells to automatically check results of your code:"
   ]
  },
  {
   "cell_type": "code",
   "execution_count": 10,
   "metadata": {},
   "outputs": [
    {
     "ename": "NameError",
     "evalue": "name 'grader' is not defined",
     "output_type": "error",
     "traceback": [
      "\u001b[0;31m---------------------------------------------------------------------------\u001b[0m",
      "\u001b[0;31mNameError\u001b[0m                                 Traceback (most recent call last)",
      "\u001b[0;32m<ipython-input-10-8b3801bef9bf>\u001b[0m in \u001b[0;36m<module>\u001b[0;34m\u001b[0m\n\u001b[1;32m      1\u001b[0m \u001b[0;31m## GRADED PART, DO NOT CHANGE!\u001b[0m\u001b[0;34m\u001b[0m\u001b[0;34m\u001b[0m\u001b[0;34m\u001b[0m\u001b[0m\n\u001b[0;32m----> 2\u001b[0;31m \u001b[0mgrader\u001b[0m\u001b[0;34m.\u001b[0m\u001b[0mset_answer\u001b[0m\u001b[0;34m(\u001b[0m\u001b[0;34m\"C2ep5\"\u001b[0m\u001b[0;34m,\u001b[0m \u001b[0mgrading_utils\u001b[0m\u001b[0;34m.\u001b[0m\u001b[0mtest_reader\u001b[0m\u001b[0;34m(\u001b[0m\u001b[0mX\u001b[0m\u001b[0;34m,\u001b[0m \u001b[0mN\u001b[0m\u001b[0;34m,\u001b[0m \u001b[0mm\u001b[0m\u001b[0;34m)\u001b[0m\u001b[0;34m)\u001b[0m\u001b[0;34m\u001b[0m\u001b[0;34m\u001b[0m\u001b[0m\n\u001b[0m",
      "\u001b[0;31mNameError\u001b[0m: name 'grader' is not defined"
     ]
    }
   ],
   "source": [
    "## GRADED PART, DO NOT CHANGE!\n",
    "grader.set_answer(\"C2ep5\", grading_utils.test_reader(X, N, m))"
   ]
  },
  {
   "cell_type": "code",
   "execution_count": 11,
   "metadata": {},
   "outputs": [
    {
     "ename": "NameError",
     "evalue": "name 'grader' is not defined",
     "output_type": "error",
     "traceback": [
      "\u001b[0;31m---------------------------------------------------------------------------\u001b[0m",
      "\u001b[0;31mNameError\u001b[0m                                 Traceback (most recent call last)",
      "\u001b[0;32m<ipython-input-11-084002434f21>\u001b[0m in \u001b[0;36m<module>\u001b[0;34m\u001b[0m\n\u001b[1;32m      1\u001b[0m \u001b[0;31m# you can make submission with answers so far to check yourself at this stage\u001b[0m\u001b[0;34m\u001b[0m\u001b[0;34m\u001b[0m\u001b[0;34m\u001b[0m\u001b[0m\n\u001b[0;32m----> 2\u001b[0;31m \u001b[0mgrader\u001b[0m\u001b[0;34m.\u001b[0m\u001b[0msubmit\u001b[0m\u001b[0;34m(\u001b[0m\u001b[0mCOURSERA_EMAIL\u001b[0m\u001b[0;34m,\u001b[0m \u001b[0mCOURSERA_TOKEN\u001b[0m\u001b[0;34m)\u001b[0m\u001b[0;34m\u001b[0m\u001b[0;34m\u001b[0m\u001b[0m\n\u001b[0m",
      "\u001b[0;31mNameError\u001b[0m: name 'grader' is not defined"
     ]
    }
   ],
   "source": [
    "# you can make submission with answers so far to check yourself at this stage\n",
    "grader.submit(COURSERA_EMAIL, COURSERA_TOKEN)"
   ]
  },
  {
   "cell_type": "markdown",
   "metadata": {},
   "source": [
    "Consider that we are interested in the loss of the model we discussed in the video:\n",
    "\n",
    "+ Assume we have input data that is denoted as $\\vec{x}_1, \\vec{x}_2, \\ldots, \\vec{x}_N$\n",
    "+ House prices for this input data are known $y_1, y_2, \\ldots, y_N$\n",
    "\n",
    "We propose a **simple linear model** for this task:\n",
    "\n",
    "$$ \\hat{y}_i=w_0+w_1x_1+w_2x_2+\\ldots+w_mx_m $$\n",
    "\n",
    "As a loss function we will use the mean squared error (**MSE**):\n",
    "\n",
    "$$\n",
    "Loss(\\vec{w})=\\frac{1}{N}\\sum_{i=1}^N (y_i-\\hat{y}_i)^2\n",
    "$$\n",
    "\n",
    "### Task 2. Compute analytically the $Loss(\\vec{w})$ function\n",
    "Please, keep the signature of the function and enter the code only under `your code goes here`.\n",
    "\n",
    "**Attention**: you need to avoid usage of `for` cycles! The easiest way to do it is by using matrix operations. **Your score will be decreased if you use cycles**!\n",
    "\n",
    "_Hint_: to get nice $w_0$ coefficient it is convinient to add to the `X` matrix the column of 1 with `np.concatenate` [documentation](https://docs.scipy.org/doc/numpy/reference/generated/numpy.concatenate.html)"
   ]
  },
  {
   "cell_type": "code",
   "execution_count": 153,
   "metadata": {},
   "outputs": [],
   "source": [
    "def loss(w, X, y):\n",
    "    #your code goes here\n",
    "    X_new = np.concatenate((np.ones((N, 1)), X), axis=1)\n",
    "    E = y-(X_new @ w)\n",
    "    # E.T @ E is a (1,1) array, so by using .item() we\n",
    "    # extract this scalar value\n",
    "    lossValue = (1/N)*(E.T @ E).item()\n",
    "    return lossValue"
   ]
  },
  {
   "cell_type": "markdown",
   "metadata": {},
   "source": [
    "Run the following cells to automatically check results of your code."
   ]
  },
  {
   "cell_type": "code",
   "execution_count": 112,
   "metadata": {},
   "outputs": [
    {
     "ename": "NameError",
     "evalue": "name 'grader' is not defined",
     "output_type": "error",
     "traceback": [
      "\u001b[0;31m---------------------------------------------------------------------------\u001b[0m",
      "\u001b[0;31mNameError\u001b[0m                                 Traceback (most recent call last)",
      "\u001b[0;32m<ipython-input-112-14bb6125baeb>\u001b[0m in \u001b[0;36m<module>\u001b[0;34m\u001b[0m\n\u001b[1;32m      1\u001b[0m \u001b[0;31m## GRADED PART, DO NOT CHANGE!\u001b[0m\u001b[0;34m\u001b[0m\u001b[0;34m\u001b[0m\u001b[0;34m\u001b[0m\u001b[0m\n\u001b[0;32m----> 2\u001b[0;31m \u001b[0mgrader\u001b[0m\u001b[0;34m.\u001b[0m\u001b[0mset_answer\u001b[0m\u001b[0;34m(\u001b[0m\u001b[0;34m\"AVd3G\"\u001b[0m\u001b[0;34m,\u001b[0m \u001b[0mgrading_utils\u001b[0m\u001b[0;34m.\u001b[0m\u001b[0mtest_loss\u001b[0m\u001b[0;34m(\u001b[0m\u001b[0mloss\u001b[0m\u001b[0;34m,\u001b[0m \u001b[0mX\u001b[0m\u001b[0;34m,\u001b[0m \u001b[0mdatY\u001b[0m\u001b[0;34m)\u001b[0m\u001b[0;34m)\u001b[0m\u001b[0;34m\u001b[0m\u001b[0;34m\u001b[0m\u001b[0m\n\u001b[0m",
      "\u001b[0;31mNameError\u001b[0m: name 'grader' is not defined"
     ]
    }
   ],
   "source": [
    "## GRADED PART, DO NOT CHANGE!\n",
    "grader.set_answer(\"AVd3G\", grading_utils.test_loss(loss, X, datY))"
   ]
  },
  {
   "cell_type": "code",
   "execution_count": 113,
   "metadata": {},
   "outputs": [
    {
     "ename": "NameError",
     "evalue": "name 'grader' is not defined",
     "output_type": "error",
     "traceback": [
      "\u001b[0;31m---------------------------------------------------------------------------\u001b[0m",
      "\u001b[0;31mNameError\u001b[0m                                 Traceback (most recent call last)",
      "\u001b[0;32m<ipython-input-113-084002434f21>\u001b[0m in \u001b[0;36m<module>\u001b[0;34m\u001b[0m\n\u001b[1;32m      1\u001b[0m \u001b[0;31m# you can make submission with answers so far to check yourself at this stage\u001b[0m\u001b[0;34m\u001b[0m\u001b[0;34m\u001b[0m\u001b[0;34m\u001b[0m\u001b[0m\n\u001b[0;32m----> 2\u001b[0;31m \u001b[0mgrader\u001b[0m\u001b[0;34m.\u001b[0m\u001b[0msubmit\u001b[0m\u001b[0;34m(\u001b[0m\u001b[0mCOURSERA_EMAIL\u001b[0m\u001b[0;34m,\u001b[0m \u001b[0mCOURSERA_TOKEN\u001b[0m\u001b[0;34m)\u001b[0m\u001b[0;34m\u001b[0m\u001b[0;34m\u001b[0m\u001b[0m\n\u001b[0m",
      "\u001b[0;31mNameError\u001b[0m: name 'grader' is not defined"
     ]
    }
   ],
   "source": [
    "# you can make submission with answers so far to check yourself at this stage\n",
    "grader.submit(COURSERA_EMAIL, COURSERA_TOKEN)"
   ]
  },
  {
   "cell_type": "markdown",
   "metadata": {},
   "source": [
    "### Task 3. Compute analyticaly the gradient of the $Loss(\\vec{w})$ (1 point)\n",
    "Please, enter your answer in the cell below (it should be a `markdown` cell). You can initially specify each partial derivative $\\frac{\\partial Loss}{\\partial w_i}$, but **your final answer must consists of $\\nabla Loss$ altogether using matrix operations**."
   ]
  },
  {
   "cell_type": "markdown",
   "metadata": {},
   "source": [
    "If \n",
    "\\begin{equation}\n",
    "L(\\vec{w}) = \\frac{1}{N}\\sum_{i=1}^N(y_i-\\hat{y}_i)^2 = \\frac{1}{N}\\sum_{i=1}^N(y_i-(X\\vec{w})_i)^2,\n",
    "\\end{equation}\n",
    "where $(X\\vec{w})_i$ represents the i-th row of $X\\vec{w}$, then:\n",
    "\\begin{equation}\n",
    "\\frac{\\partial L}{\\partial w_j} = -\\frac{2}{N} \\sum_{i=1}^N x_{ij}(y_i-(X\\vec{w})_i) = -\\frac{2}{N}x_j^T(y-X\\vec{w})\n",
    "\\end{equation}\n",
    "Thus, the gradient can be written just like this:\n",
    "\\begin{equation}\n",
    "\\nabla L(\\vec{w}) = -\\frac{2}{N}X^T(y-X\\vec{w})\n",
    "\\end{equation}"
   ]
  },
  {
   "cell_type": "markdown",
   "metadata": {},
   "source": [
    "### Task 4. Write a function to compute the gradient of the Loss function in the given point\n",
    "Please, keep the signature of the function and enter the code only under `your code goes here`. \n",
    "\n",
    "**Attention**: you need to avoid usage of `for` cycles! The easiest way to do it is by using matrix operations. **Your score will be decreased if you use cycles**!\n"
   ]
  },
  {
   "cell_type": "code",
   "execution_count": 201,
   "metadata": {},
   "outputs": [],
   "source": [
    "def grad(w_k, X, y):\n",
    "    #your code goes here\n",
    "    X_new = np.concatenate((np.ones((N, 1)), X), axis=1)\n",
    "    E = y - (X_new @ w_k)\n",
    "    lossGradient = -(2/N)*(X_new.T @ E)\n",
    "    return lossGradient"
   ]
  },
  {
   "cell_type": "markdown",
   "metadata": {},
   "source": [
    "Run the following cells to automatically check your function. "
   ]
  },
  {
   "cell_type": "code",
   "execution_count": 202,
   "metadata": {},
   "outputs": [
    {
     "ename": "NameError",
     "evalue": "name 'grader' is not defined",
     "output_type": "error",
     "traceback": [
      "\u001b[0;31m---------------------------------------------------------------------------\u001b[0m",
      "\u001b[0;31mNameError\u001b[0m                                 Traceback (most recent call last)",
      "\u001b[0;32m<ipython-input-202-a10b6d3e6daf>\u001b[0m in \u001b[0;36m<module>\u001b[0;34m\u001b[0m\n\u001b[1;32m      1\u001b[0m \u001b[0;31m## GRADED PART, DO NOT CHANGE!\u001b[0m\u001b[0;34m\u001b[0m\u001b[0;34m\u001b[0m\u001b[0;34m\u001b[0m\u001b[0m\n\u001b[0;32m----> 2\u001b[0;31m \u001b[0mgrader\u001b[0m\u001b[0;34m.\u001b[0m\u001b[0mset_answer\u001b[0m\u001b[0;34m(\u001b[0m\u001b[0;34m\"Dkq1F\"\u001b[0m\u001b[0;34m,\u001b[0m \u001b[0mgrading_utils\u001b[0m\u001b[0;34m.\u001b[0m\u001b[0mtest_grad\u001b[0m\u001b[0;34m(\u001b[0m\u001b[0mgrad\u001b[0m\u001b[0;34m,\u001b[0m \u001b[0mX\u001b[0m\u001b[0;34m,\u001b[0m \u001b[0mdatY\u001b[0m\u001b[0;34m)\u001b[0m\u001b[0;34m)\u001b[0m\u001b[0;34m\u001b[0m\u001b[0;34m\u001b[0m\u001b[0m\n\u001b[0m",
      "\u001b[0;31mNameError\u001b[0m: name 'grader' is not defined"
     ]
    }
   ],
   "source": [
    "## GRADED PART, DO NOT CHANGE!\n",
    "grader.set_answer(\"Dkq1F\", grading_utils.test_grad(grad, X, datY))"
   ]
  },
  {
   "cell_type": "code",
   "execution_count": 203,
   "metadata": {},
   "outputs": [
    {
     "ename": "NameError",
     "evalue": "name 'grader' is not defined",
     "output_type": "error",
     "traceback": [
      "\u001b[0;31m---------------------------------------------------------------------------\u001b[0m",
      "\u001b[0;31mNameError\u001b[0m                                 Traceback (most recent call last)",
      "\u001b[0;32m<ipython-input-203-084002434f21>\u001b[0m in \u001b[0;36m<module>\u001b[0;34m\u001b[0m\n\u001b[1;32m      1\u001b[0m \u001b[0;31m# you can make submission with answers so far to check yourself at this stage\u001b[0m\u001b[0;34m\u001b[0m\u001b[0;34m\u001b[0m\u001b[0;34m\u001b[0m\u001b[0m\n\u001b[0;32m----> 2\u001b[0;31m \u001b[0mgrader\u001b[0m\u001b[0;34m.\u001b[0m\u001b[0msubmit\u001b[0m\u001b[0;34m(\u001b[0m\u001b[0mCOURSERA_EMAIL\u001b[0m\u001b[0;34m,\u001b[0m \u001b[0mCOURSERA_TOKEN\u001b[0m\u001b[0;34m)\u001b[0m\u001b[0;34m\u001b[0m\u001b[0;34m\u001b[0m\u001b[0m\n\u001b[0m",
      "\u001b[0;31mNameError\u001b[0m: name 'grader' is not defined"
     ]
    }
   ],
   "source": [
    "# you can make submission with answers so far to check yourself at this stage\n",
    "grader.submit(COURSERA_EMAIL, COURSERA_TOKEN)"
   ]
  },
  {
   "cell_type": "markdown",
   "metadata": {},
   "source": [
    "### Task 5. Write gradient descent (2 points)\n",
    "How it is time to formulate the gradient descent! As you remeember, the idea here is that:\n",
    "$$\n",
    "\\vec{w}^{k+1}=\\vec{w}^{k}-\\alpha_k\\cdot \\nabla Loss(\\vec{w}^{k}\n",
    "$$\n",
    "We propose that you use constant $\\alpha_k=\\alpha$. Assume that the method should stop in two cases:\n",
    "+ if the number of iterations is to high (`maxiter`)\n",
    "+ if the length of the gradient is low enough (<`eps`) to call an extremum\n",
    "\n",
    "Please, keep the signature of the function and enter the code only under `your code goes here`. "
   ]
  },
  {
   "cell_type": "code",
   "execution_count": 204,
   "metadata": {},
   "outputs": [],
   "source": [
    "def gradDescent(w_init, alpha, X, y, maxiter=500, eps=1e-2):\n",
    "    losses=[]\n",
    "    weights=[w_init]\n",
    "    curiter=0\n",
    "    w_k=weights[-1]\n",
    "    #your code goes here\n",
    "    while curiter <= maxiter and np.linalg.norm(grad(w_k, X, y)) >= eps:\n",
    "        w_k=w_k-alpha*grad(w_k, X, y)\n",
    "        lossValue_k=loss(w_k, X, y)\n",
    "        weights.append(w_k)\n",
    "        losses.append(lossValue_k)\n",
    "        curiter += 1\n",
    "        \n",
    "    return weights, losses"
   ]
  },
  {
   "cell_type": "markdown",
   "metadata": {},
   "source": [
    "Experiment with several alphas and several intial values of weights. To illustrate, provide graphs for the Loss function over iterations in each case (and, optionally, the distance between weigths from one iteration to the next):\n",
    "\n",
    "(we provided all key plotting commands for you, but you can always look into [this tutorial](https://matplotlib.org/tutorials/introductory/usage.html#sphx-glr-tutorials-introductory-usage-py))\n",
    "\n",
    "**Note:** You need to provide at least **two** experiments with **different values of $\\alpha$** (**1 point**). Preferably, there should be at least one convergent."
   ]
  },
  {
   "cell_type": "code",
   "execution_count": 207,
   "metadata": {},
   "outputs": [
    {
     "name": "stdout",
     "output_type": "stream",
     "text": [
      "[array([[0.],\n",
      "       [0.],\n",
      "       [0.],\n",
      "       [0.],\n",
      "       [0.],\n",
      "       [0.],\n",
      "       [0.],\n",
      "       [0.],\n",
      "       [0.],\n",
      "       [0.],\n",
      "       [0.]]), array([[ 2.60979100e+01],\n",
      "       [ 8.84084254e+01],\n",
      "       [ 5.58805552e+01],\n",
      "       [ 5.51438577e+04],\n",
      "       [ 3.92413365e+01],\n",
      "       [ 8.90167970e+01],\n",
      "       [ 2.00820848e+02],\n",
      "       [ 4.73678426e+04],\n",
      "       [ 7.77601509e+03],\n",
      "       [-3.18949548e+03],\n",
      "       [ 1.24129919e+03]]), array([[-4.05643500e+08],\n",
      "       [-1.46110329e+09],\n",
      "       [-9.65122981e+08],\n",
      "       [-1.00840561e+12],\n",
      "       [-6.48521165e+08],\n",
      "       [-1.37158807e+09],\n",
      "       [-3.27159930e+09],\n",
      "       [-8.68887632e+11],\n",
      "       [-1.39517979e+11],\n",
      "       [ 4.95677111e+10],\n",
      "       [-1.92934661e+10]]), array([[ 7.42350998e+15],\n",
      "       [ 2.67390847e+16],\n",
      "       [ 1.76627397e+16],\n",
      "       [ 1.84548638e+19],\n",
      "       [ 1.18693275e+16],\n",
      "       [ 2.51002520e+16],\n",
      "       [ 5.98734052e+16],\n",
      "       [ 1.59030525e+19],\n",
      "       [ 2.55181126e+18],\n",
      "       [-9.07117530e+17],\n",
      "       [ 3.53081503e+17]]), array([[-1.35862433e+23],\n",
      "       [-4.89368911e+23],\n",
      "       [-3.23257055e+23],\n",
      "       [-3.37754044e+26],\n",
      "       [-2.17228632e+23],\n",
      "       [-4.59375566e+23],\n",
      "       [-1.09578186e+24],\n",
      "       [-2.91052591e+26],\n",
      "       [-4.67014526e+25],\n",
      "       [ 1.66017416e+25],\n",
      "       [-6.46197178e+24]]), array([[ 2.48650621e+30],\n",
      "       [ 8.95625657e+30],\n",
      "       [ 5.91613623e+30],\n",
      "       [ 6.18145489e+33],\n",
      "       [ 3.97564184e+30],\n",
      "       [ 8.40732897e+30],\n",
      "       [ 2.00546122e+31],\n",
      "       [ 5.32674192e+33],\n",
      "       [ 8.54712971e+32],\n",
      "       [-3.03839203e+32],\n",
      "       [ 1.18264722e+32]]), array([[-4.55071574e+37],\n",
      "       [-1.63914241e+38],\n",
      "       [-1.08275033e+38],\n",
      "       [-1.13130802e+41],\n",
      "       [-7.27607913e+37],\n",
      "       [-1.53867962e+38],\n",
      "       [-3.67032422e+38],\n",
      "       [-9.74881473e+40],\n",
      "       [-1.56426543e+40],\n",
      "       [ 5.56075767e+39],\n",
      "       [-2.16443913e+39]]), array([[ 8.32855904e+44],\n",
      "       [ 2.99990048e+45],\n",
      "       [ 1.98161138e+45],\n",
      "       [ 2.07047993e+48],\n",
      "       [ 1.33164227e+45],\n",
      "       [ 2.81603703e+45],\n",
      "       [ 6.71729760e+45],\n",
      "       [ 1.78419360e+48],\n",
      "       [ 2.86286328e+47],\n",
      "       [-1.01771021e+47],\n",
      "       [ 3.96127996e+46]]), array([[-1.52426343e+52],\n",
      "       [-5.49031178e+52],\n",
      "       [-3.62667507e+52],\n",
      "       [-3.78931916e+55],\n",
      "       [-2.43712460e+52],\n",
      "       [-5.15381141e+52],\n",
      "       [-1.22937606e+53],\n",
      "       [-3.26536804e+55],\n",
      "       [-5.23951114e+54],\n",
      "       [ 1.86257723e+54],\n",
      "       [-7.24979451e+53]]), array([[ 2.78965303e+59],\n",
      "       [ 1.00481745e+60],\n",
      "       [ 6.63741248e+59],\n",
      "       [ 6.93507793e+62],\n",
      "       [ 4.46033928e+59],\n",
      "       [ 9.43232341e+59],\n",
      "       [ 2.24996059e+60],\n",
      "       [ 5.97616113e+62],\n",
      "       [ 9.58916802e+61],\n",
      "       [-3.40882299e+61],\n",
      "       [ 1.32683176e+61]]), array([[-5.10552433e+66],\n",
      "       [-1.83898136e+67],\n",
      "       [-1.21475576e+67],\n",
      "       [-1.26923344e+70],\n",
      "       [-8.16315523e+66],\n",
      "       [-1.72627048e+67],\n",
      "       [-4.11779831e+67],\n",
      "       [-1.09373588e+70],\n",
      "       [-1.75497563e+69],\n",
      "       [ 6.23870731e+68],\n",
      "       [-2.42832057e+68]]), array([[ 9.34395010e+73],\n",
      "       [ 3.36563867e+74],\n",
      "       [ 2.22320305e+74],\n",
      "       [ 2.32290617e+77],\n",
      "       [ 1.49399181e+74],\n",
      "       [ 3.15935919e+74],\n",
      "       [ 7.53624887e+74],\n",
      "       [ 2.00171673e+77],\n",
      "       [ 3.21189434e+76],\n",
      "       [-1.14178615e+76],\n",
      "       [ 4.44422644e+75]]), array([[-1.71009671e+81],\n",
      "       [-6.15967289e+81],\n",
      "       [-4.06882760e+81],\n",
      "       [-4.25130073e+84],\n",
      "       [-2.73425098e+81],\n",
      "       [-5.78214748e+81],\n",
      "       [-1.37925762e+82],\n",
      "       [-3.66347118e+84],\n",
      "       [-5.87829544e+83],\n",
      "       [ 2.08965664e+83],\n",
      "       [-8.13366608e+82]]), array([[ 3.12975853e+88],\n",
      "       [ 1.12732155e+89],\n",
      "       [ 7.44662441e+88],\n",
      "       [ 7.78058027e+91],\n",
      "       [ 5.00412946e+88],\n",
      "       [ 1.05822819e+89],\n",
      "       [ 2.52426853e+89],\n",
      "       [ 6.70475542e+91],\n",
      "       [ 1.07582485e+91],\n",
      "       [-3.82441570e+90],\n",
      "       [ 1.48859481e+90]]), array([[-5.72797339e+95],\n",
      "       [-2.06318404e+96],\n",
      "       [-1.36285487e+96],\n",
      "       [-1.42397429e+99],\n",
      "       [-9.15838080e+95],\n",
      "       [-1.93673181e+96],\n",
      "       [-4.61982700e+96],\n",
      "       [-1.22708063e+99],\n",
      "       [-1.96893659e+98],\n",
      "       [ 6.99931039e+97],\n",
      "       [-2.72437358e+97]]), array([[ 1.04831344e+103],\n",
      "       [ 3.77596648e+103],\n",
      "       [ 2.49424879e+103],\n",
      "       [ 2.60610740e+106],\n",
      "       [ 1.67613447e+103],\n",
      "       [ 3.54453808e+103],\n",
      "       [ 8.45504403e+103],\n",
      "       [ 2.24575958e+106],\n",
      "       [ 3.60347814e+105],\n",
      "       [-1.28098904e+105],\n",
      "       [ 4.98605219e+104]]), array([[-1.91858619e+110],\n",
      "       [-6.91064034e+110],\n",
      "       [-4.56488595e+110],\n",
      "       [-4.76960561e+113],\n",
      "       [-3.06760204e+110],\n",
      "       [-6.48708826e+110],\n",
      "       [-1.54741226e+111],\n",
      "       [-4.11010978e+113],\n",
      "       [-6.59495827e+112],\n",
      "       [ 2.34442084e+112],\n",
      "       [-9.12529642e+111]]), array([[ 3.51132860e+117],\n",
      "       [ 1.26476096e+118],\n",
      "       [ 8.35449285e+117],\n",
      "       [ 8.72916353e+120],\n",
      "       [ 5.61421679e+117],\n",
      "       [ 1.18724395e+118],\n",
      "       [ 2.83201921e+118],\n",
      "       [ 7.52217759e+120],\n",
      "       [ 1.20698594e+120],\n",
      "       [-4.29067613e+119],\n",
      "       [ 1.67007948e+119]]), array([[-6.42630944e+124],\n",
      "       [-2.31472079e+125],\n",
      "       [-1.52900974e+125],\n",
      "       [-1.59758064e+128],\n",
      "       [-1.02749411e+125],\n",
      "       [-2.17285191e+125],\n",
      "       [-5.18306142e+125],\n",
      "       [-1.37668234e+128],\n",
      "       [-2.20898300e+127],\n",
      "       [ 7.85264375e+126],\n",
      "       [-3.05652042e+126]]), array([[ 1.17612043e+132],\n",
      "       [ 4.23632014e+132],\n",
      "       [ 2.79833956e+132],\n",
      "       [ 2.92383561e+135],\n",
      "       [ 1.88048338e+132],\n",
      "       [ 3.97667673e+132],\n",
      "       [ 9.48585574e+132],\n",
      "       [ 2.51955535e+135],\n",
      "       [ 4.04280257e+134],\n",
      "       [-1.43716309e+134],\n",
      "       [ 5.59393560e+133]]), array([[-2.15249403e+139],\n",
      "       [-7.75316333e+139],\n",
      "       [-5.12142212e+139],\n",
      "       [-5.35110054e+142],\n",
      "       [-3.44159419e+139],\n",
      "       [-7.27797314e+139],\n",
      "       [-1.73606778e+140],\n",
      "       [-4.61120111e+142],\n",
      "       [-7.39899432e+141],\n",
      "       [ 2.63024507e+141],\n",
      "       [-1.02378231e+141]]), array([[ 3.93941846e+146],\n",
      "       [ 1.41895654e+147],\n",
      "       [ 9.37304568e+146],\n",
      "       [ 9.79339500e+149],\n",
      "       [ 6.29868400e+146],\n",
      "       [ 1.33198891e+147],\n",
      "       [ 3.17728986e+147],\n",
      "       [ 8.43925722e+149],\n",
      "       [ 1.35413778e+149],\n",
      "       [-4.81378153e+148],\n",
      "       [ 1.87369019e+148]]), array([[-7.20978437e+153],\n",
      "       [-2.59692408e+154],\n",
      "       [-1.71542168e+154],\n",
      "       [-1.79235252e+157],\n",
      "       [-1.15276287e+154],\n",
      "       [-2.43775900e+154],\n",
      "       [-5.81496355e+154],\n",
      "       [-1.54452302e+157],\n",
      "       [-2.47829508e+156],\n",
      "       [ 8.81001275e+155],\n",
      "       [-3.42916154e+155]]), array([[ 1.31950924e+161],\n",
      "       [ 4.75279863e+161],\n",
      "       [ 3.13950410e+161],\n",
      "       [ 3.28030022e+164],\n",
      "       [ 2.10974585e+161],\n",
      "       [ 4.46150033e+161],\n",
      "       [ 1.06423407e+162],\n",
      "       [ 2.82673141e+164],\n",
      "       [ 4.53568803e+163],\n",
      "       [-1.61237738e+163],\n",
      "       [ 6.27593019e+162]]), array([[-2.41491916e+168],\n",
      "       [-8.69840401e+168],\n",
      "       [-5.74580939e+168],\n",
      "       [-6.00348947e+171],\n",
      "       [-3.86118226e+168],\n",
      "       [-8.16528016e+168],\n",
      "       [-1.94772356e+169],\n",
      "       [-5.17338388e+171],\n",
      "       [-8.30105585e+170],\n",
      "       [ 2.95091607e+170],\n",
      "       [-1.14859855e+170]]), array([[ 4.41969965e+175],\n",
      "       [ 1.59195114e+176],\n",
      "       [ 1.05157772e+176],\n",
      "       [ 1.09873741e+179],\n",
      "       [ 7.06659924e+175],\n",
      "       [ 1.49438070e+176],\n",
      "       [ 3.56465479e+176],\n",
      "       [ 9.46814425e+178],\n",
      "       [ 1.51922989e+178],\n",
      "       [-5.40066226e+177],\n",
      "       [ 2.10212446e+177]]), array([[-8.08877803e+182],\n",
      "       [-2.91353269e+183],\n",
      "       [-1.92456036e+183],\n",
      "       [-2.01087037e+186],\n",
      "       [-1.29330401e+183],\n",
      "       [-2.73496272e+183],\n",
      "       [-6.52390516e+183],\n",
      "       [-1.73282628e+186],\n",
      "       [-2.78044083e+185],\n",
      "       [ 9.88410110e+184],\n",
      "       [-3.84723385e+184]]), array([[ 1.48037955e+190],\n",
      "       [ 5.33224452e+190],\n",
      "       [ 3.52226232e+190],\n",
      "       [ 3.68022384e+193],\n",
      "       [ 2.36695926e+190],\n",
      "       [ 5.00543207e+190],\n",
      "       [ 1.19398205e+191],\n",
      "       [ 3.17135739e+193],\n",
      "       [ 5.08866449e+192],\n",
      "       [-1.80895323e+192],\n",
      "       [ 7.04107136e+191]]), array([[-2.70933832e+197],\n",
      "       [-9.75888538e+197],\n",
      "       [-6.44631995e+197],\n",
      "       [-6.73541554e+200],\n",
      "       [-4.33192515e+197],\n",
      "       [-9.16076479e+197],\n",
      "       [-2.18518374e+198],\n",
      "       [-5.80410616e+200],\n",
      "       [-9.31309381e+199],\n",
      "       [ 3.31068225e+199],\n",
      "       [-1.28863198e+199]]), array([[ 4.95853519e+204],\n",
      "       [ 1.78603669e+205],\n",
      "       [ 1.17978268e+205],\n",
      "       [ 1.23269194e+208],\n",
      "       [ 7.92813624e+204],\n",
      "       [ 1.67657078e+205],\n",
      "       [ 3.99924601e+205],\n",
      "       [ 1.06224699e+208],\n",
      "       [ 1.70444950e+207],\n",
      "       [-6.05909358e+206],\n",
      "       [ 2.35840869e+206]]), array([[-9.07493577e+211],\n",
      "       [-3.26874121e+212],\n",
      "       [-2.15919655e+212],\n",
      "       [-2.25602920e+215],\n",
      "       [-1.45097946e+212],\n",
      "       [-3.06840056e+212],\n",
      "       [-7.31927864e+212],\n",
      "       [-1.94408688e+215],\n",
      "       [-3.11942321e+214],\n",
      "       [ 1.10891388e+214],\n",
      "       [-4.31627620e+213]]), array([[ 1.66086266e+219],\n",
      "       [ 5.98233458e+219],\n",
      "       [ 3.95168518e+219],\n",
      "       [ 4.12890486e+222],\n",
      "       [ 2.65553130e+219],\n",
      "       [ 5.61567821e+219],\n",
      "       [ 1.33954850e+220],\n",
      "       [ 3.55799906e+222],\n",
      "       [ 5.70905805e+221],\n",
      "       [-2.02949498e+221],\n",
      "       [ 7.89949608e+220]]), array([[-3.03965211e+226],\n",
      "       [-1.09486572e+227],\n",
      "       [-7.23223449e+226],\n",
      "       [-7.55657569e+229],\n",
      "       [-4.86005950e+226],\n",
      "       [-1.02776157e+227],\n",
      "       [-2.45159429e+227],\n",
      "       [-6.51172407e+229],\n",
      "       [-1.04485162e+229],\n",
      "       [ 3.71430995e+228],\n",
      "       [-1.44573784e+228]]), array([[ 5.56306381e+233],\n",
      "       [ 2.00378453e+234],\n",
      "       [ 1.32361798e+234],\n",
      "       [ 1.38297776e+237],\n",
      "       [ 8.89470904e+233],\n",
      "       [ 1.88097288e+234],\n",
      "       [ 4.48682119e+234],\n",
      "       [ 1.19175271e+237],\n",
      "       [ 1.91225049e+236],\n",
      "       [-6.79779874e+235],\n",
      "       [ 2.64593828e+235]]), array([[-1.01813227e+241],\n",
      "       [-3.66725560e+241],\n",
      "       [-2.42243883e+241],\n",
      "       [-2.53107700e+244],\n",
      "       [-1.62787820e+241],\n",
      "       [-3.44249006e+241],\n",
      "       [-8.21162149e+241],\n",
      "       [-2.18110368e+244],\n",
      "       [-3.49973322e+243],\n",
      "       [ 1.24410909e+243],\n",
      "       [-4.84250268e+242]]), array([[ 1.86334968e+248],\n",
      "       [ 6.71168152e+248],\n",
      "       [ 4.43346190e+248],\n",
      "       [ 4.63228763e+251],\n",
      "       [ 2.97928512e+248],\n",
      "       [ 6.30032359e+248],\n",
      "       [ 1.50286193e+249],\n",
      "       [ 3.99177883e+251],\n",
      "       [ 6.40508800e+250],\n",
      "       [-2.27692446e+250],\n",
      "       [ 8.86257717e+249]]), array([[-3.41023669e+255],\n",
      "       [-1.22834822e+256],\n",
      "       [-8.11396520e+255],\n",
      "       [-8.47784903e+258],\n",
      "       [-5.45258228e+255],\n",
      "       [-1.15306295e+256],\n",
      "       [-2.75048476e+256],\n",
      "       [-7.30561247e+258],\n",
      "       [-1.17223656e+258],\n",
      "       [ 4.16714664e+257],\n",
      "       [-1.62199754e+257]]), array([[ 6.24129461e+262],\n",
      "       [ 2.24807948e+263],\n",
      "       [ 1.48498922e+263],\n",
      "       [ 1.55158595e+266],\n",
      "       [ 9.97912329e+262],\n",
      "       [ 2.11029503e+263],\n",
      "       [ 5.03383996e+263],\n",
      "       [ 1.33704736e+266],\n",
      "       [ 2.14538590e+265],\n",
      "       [-7.62656444e+264],\n",
      "       [ 2.96852254e+264]]), array([[-1.14225967e+270],\n",
      "       [-4.11435557e+270],\n",
      "       [-2.71777476e+270],\n",
      "       [-2.83965775e+273],\n",
      "       [-1.82634386e+270],\n",
      "       [-3.86218735e+270],\n",
      "       [-9.21275591e+270],\n",
      "       [-2.44701681e+273],\n",
      "       [-3.92640942e+272],\n",
      "       [ 1.39578686e+272],\n",
      "       [-5.43288499e+271]]), array([[ 2.09052326e+277],\n",
      "       [ 7.52994809e+277],\n",
      "       [ 4.97397528e+277],\n",
      "       [ 5.19704120e+280],\n",
      "       [ 3.34250995e+277],\n",
      "       [ 7.06843872e+277],\n",
      "       [ 1.68608601e+278],\n",
      "       [ 4.47844364e+280],\n",
      "       [ 7.18597568e+279],\n",
      "       [-2.55451975e+279],\n",
      "       [ 9.94307400e+278]]), array([[-3.82600175e+284],\n",
      "       [-1.37810447e+285],\n",
      "       [-9.10319368e+284],\n",
      "       [-9.51144105e+287],\n",
      "       [-6.11734353e+284],\n",
      "       [-1.29364066e+285],\n",
      "       [-3.08581500e+285],\n",
      "       [-8.19628919e+287],\n",
      "       [-1.31515186e+287],\n",
      "       [ 4.67519173e+286],\n",
      "       [-1.81974625e+286]]), array([[ 7.00221312e+291],\n",
      "       [ 2.52215808e+292],\n",
      "       [ 1.66603432e+292],\n",
      "       [ 1.74075031e+295],\n",
      "       [ 1.11957458e+292],\n",
      "       [ 2.36757540e+292],\n",
      "       [ 5.64754950e+292],\n",
      "       [ 1.50005587e+295],\n",
      "       [ 2.40694443e+294],\n",
      "       [-8.55637059e+293],\n",
      "       [ 3.33043524e+293]]), array([[-1.28152029e+299],\n",
      "       [-4.61596454e+299],\n",
      "       [-3.04911710e+299],\n",
      "       [-3.18585967e+302],\n",
      "       [-2.04900581e+299],\n",
      "       [-4.33305278e+299],\n",
      "       [-1.03359454e+300],\n",
      "       [-2.74534921e+302],\n",
      "       [-4.40510459e+301],\n",
      "       [ 1.56595669e+301],\n",
      "       [-6.09524481e+300]]), array([[ inf],\n",
      "       [ inf],\n",
      "       [ inf],\n",
      "       [ inf],\n",
      "       [ inf],\n",
      "       [ inf],\n",
      "       [ inf],\n",
      "       [ inf],\n",
      "       [ inf],\n",
      "       [-inf],\n",
      "       [ inf]])]\n"
     ]
    },
    {
     "name": "stderr",
     "output_type": "stream",
     "text": [
      "/home/david/.local/lib/python3.6/site-packages/ipykernel_launcher.py:7: RuntimeWarning: overflow encountered in matmul\n",
      "  import sys\n",
      "/home/david/.local/lib/python3.6/site-packages/ipykernel_launcher.py:5: RuntimeWarning: overflow encountered in matmul\n",
      "  \"\"\"\n",
      "/home/david/.local/lib/python3.6/site-packages/ipykernel_launcher.py:4: RuntimeWarning: invalid value encountered in matmul\n",
      "  after removing the cwd from sys.path.\n"
     ]
    },
    {
     "data": {
      "text/plain": [
       "[<matplotlib.lines.Line2D at 0x7f94eeea6940>]"
      ]
     },
     "execution_count": 207,
     "metadata": {},
     "output_type": "execute_result"
    },
    {
     "data": {
      "image/png": "[encoded data removed]",
      "text/plain": [
       "<Figure size 576x576 with 1 Axes>"
      ]
     },
     "metadata": {
      "needs_background": "light"
     },
     "output_type": "display_data"
    }
   ],
   "source": [
    "plt.figure(figsize=(8,8))\n",
    "w_init_1 = np.zeros((m+1, 1))\n",
    "alpha_1 = 1\n",
    "weights_1, losses_1 = gradDescent(w_init_1, alpha_1, X, datY.reshape(-1, 1))\n",
    "# w_init_2 = np.array([[1,2,3,4,5,6,7,8,9,10,11]]).T\n",
    "# alpha_2 = 1\n",
    "# weights_2, losses_2 = gradDescent(w_init_2, alpha_2, X, datY.reshape(-1, 1))\n",
    "plt.plot(losses_1)\n",
    "# plt.plot(losses_2)\n",
    "# plt.xlabel(...)\n",
    "# plt.ylabel(...)\n",
    "# plt.legend()"
   ]
  },
  {
   "cell_type": "markdown",
   "metadata": {},
   "source": [
    "Let us check the adequacy of the model we created.\n",
    "\n",
    "Choose several (no less then five) houses (inputs in your `X` matrix) and calculte predicted prices by:\n",
    "\n",
    "$$ \\hat{y}_i=w_0+w_1x_1+w_2x_2+\\ldots+w_mx_m $$"
   ]
  },
  {
   "cell_type": "code",
   "execution_count": null,
   "metadata": {},
   "outputs": [],
   "source": [
    "### your code goes here"
   ]
  },
  {
   "cell_type": "markdown",
   "metadata": {},
   "source": [
    "Compare predicted values with an actual answer (stored in your `y` array). Is it satisfying enough? (**1 point**)"
   ]
  },
  {
   "cell_type": "markdown",
   "metadata": {},
   "source": []
  },
  {
   "cell_type": "markdown",
   "metadata": {},
   "source": [
    "### Task 6. Data transformation\n",
    "\n",
    "As you have probably already seen above, the convergence of the gradient descent is not ideal for our data. One way to overcome this is to transform the input data so that:\n",
    "+ the **average** of each feature should be $0$\n",
    "+ the **standard deviation** of each feature should be $1$\n",
    "\n",
    "In such a way levels of the loss function would be close to circles; thus one should hope to faster convergence.\n",
    "\n",
    "Implement such normalisation:"
   ]
  },
  {
   "cell_type": "code",
   "execution_count": 213,
   "metadata": {},
   "outputs": [],
   "source": [
    "def norm(X):\n",
    "    X_normed = (X - np.mean(X, axis=0)) / np.std(X, axis=0)\n",
    "    return X_normed"
   ]
  },
  {
   "cell_type": "markdown",
   "metadata": {},
   "source": [
    "Run the following cell to automatically check your function. "
   ]
  },
  {
   "cell_type": "code",
   "execution_count": 214,
   "metadata": {},
   "outputs": [
    {
     "ename": "NameError",
     "evalue": "name 'grader' is not defined",
     "output_type": "error",
     "traceback": [
      "\u001b[0;31m---------------------------------------------------------------------------\u001b[0m",
      "\u001b[0;31mNameError\u001b[0m                                 Traceback (most recent call last)",
      "\u001b[0;32m<ipython-input-214-24ef9b3a72b5>\u001b[0m in \u001b[0;36m<module>\u001b[0;34m\u001b[0m\n\u001b[1;32m      1\u001b[0m \u001b[0;31m## GRADED PART, DO NOT CHANGE!\u001b[0m\u001b[0;34m\u001b[0m\u001b[0;34m\u001b[0m\u001b[0;34m\u001b[0m\u001b[0m\n\u001b[0;32m----> 2\u001b[0;31m \u001b[0mgrader\u001b[0m\u001b[0;34m.\u001b[0m\u001b[0mset_answer\u001b[0m\u001b[0;34m(\u001b[0m\u001b[0;34m\"OUwhX\"\u001b[0m\u001b[0;34m,\u001b[0m \u001b[0mgrading_utils\u001b[0m\u001b[0;34m.\u001b[0m\u001b[0mtest_norm\u001b[0m\u001b[0;34m(\u001b[0m\u001b[0mnorm\u001b[0m\u001b[0;34m(\u001b[0m\u001b[0mX\u001b[0m\u001b[0;34m)\u001b[0m\u001b[0;34m)\u001b[0m\u001b[0;34m)\u001b[0m\u001b[0;34m\u001b[0m\u001b[0;34m\u001b[0m\u001b[0m\n\u001b[0m",
      "\u001b[0;31mNameError\u001b[0m: name 'grader' is not defined"
     ]
    }
   ],
   "source": [
    "## GRADED PART, DO NOT CHANGE!\n",
    "grader.set_answer(\"OUwhX\", grading_utils.test_norm(norm(X)))"
   ]
  },
  {
   "cell_type": "code",
   "execution_count": 215,
   "metadata": {},
   "outputs": [
    {
     "ename": "NameError",
     "evalue": "name 'grader' is not defined",
     "output_type": "error",
     "traceback": [
      "\u001b[0;31m---------------------------------------------------------------------------\u001b[0m",
      "\u001b[0;31mNameError\u001b[0m                                 Traceback (most recent call last)",
      "\u001b[0;32m<ipython-input-215-084002434f21>\u001b[0m in \u001b[0;36m<module>\u001b[0;34m\u001b[0m\n\u001b[1;32m      1\u001b[0m \u001b[0;31m# you can make submission with answers so far to check yourself at this stage\u001b[0m\u001b[0;34m\u001b[0m\u001b[0;34m\u001b[0m\u001b[0;34m\u001b[0m\u001b[0m\n\u001b[0;32m----> 2\u001b[0;31m \u001b[0mgrader\u001b[0m\u001b[0;34m.\u001b[0m\u001b[0msubmit\u001b[0m\u001b[0;34m(\u001b[0m\u001b[0mCOURSERA_EMAIL\u001b[0m\u001b[0;34m,\u001b[0m \u001b[0mCOURSERA_TOKEN\u001b[0m\u001b[0;34m)\u001b[0m\u001b[0;34m\u001b[0m\u001b[0;34m\u001b[0m\u001b[0m\n\u001b[0m",
      "\u001b[0;31mNameError\u001b[0m: name 'grader' is not defined"
     ]
    }
   ],
   "source": [
    "# you can make submission with answers so far to check yourself at this stage\n",
    "grader.submit(COURSERA_EMAIL, COURSERA_TOKEN)"
   ]
  },
  {
   "cell_type": "markdown",
   "metadata": {},
   "source": [
    "### Task 7. And again (2 points)\n",
    "\n",
    "Repeat gradient descent experiments for different $\\alpha$s, now with transformed data.\n",
    "\n",
    "+ Run at least two experiments with different $\\alpha$\n",
    "+ At least two experiments should be convergent\n",
    "\n",
    "1. Provide `loss` plots for those experiments (on the same graph). (**1 point**)\n",
    "2. Are optimized weights the same? Illustrate it (plot it or show differences in other way)"
   ]
  },
  {
   "cell_type": "code",
   "execution_count": 216,
   "metadata": {},
   "outputs": [
    {
     "name": "stderr",
     "output_type": "stream",
     "text": [
      "/home/david/.local/lib/python3.6/site-packages/ipykernel_launcher.py:7: RuntimeWarning: overflow encountered in matmul\n",
      "  import sys\n",
      "/home/david/.local/lib/python3.6/site-packages/ipykernel_launcher.py:5: RuntimeWarning: overflow encountered in matmul\n",
      "  \"\"\"\n",
      "/home/david/.local/lib/python3.6/site-packages/ipykernel_launcher.py:4: RuntimeWarning: invalid value encountered in matmul\n",
      "  after removing the cwd from sys.path.\n",
      "/home/david/.local/lib/python3.6/site-packages/ipykernel_launcher.py:5: RuntimeWarning: invalid value encountered in matmul\n",
      "  \"\"\"\n"
     ]
    },
    {
     "data": {
      "text/plain": [
       "[<matplotlib.lines.Line2D at 0x7f94eee1f128>]"
      ]
     },
     "execution_count": 216,
     "metadata": {},
     "output_type": "execute_result"
    },
    {
     "data": {
      "image/png": "[encoded data removed]",
      "text/plain": [
       "<Figure size 576x576 with 1 Axes>"
      ]
     },
     "metadata": {
      "needs_background": "light"
     },
     "output_type": "display_data"
    }
   ],
   "source": [
    "plt.figure(figsize=(8,8))\n",
    "w_init_1 = np.zeros((m+1, 1))\n",
    "alpha_1 = 1\n",
    "weights_1, losses_1 = gradDescent(w_init_1, alpha_1, norm(X), datY.reshape(-1, 1))\n",
    "# w_init_2 = np.array([[1,2,3,4,5,6,7,8,9,10,11]]).T\n",
    "# alpha_2 = 1\n",
    "# weights_2, losses_2 = gradDescent(w_init_2, alpha_2, X, datY.reshape(-1, 1))\n",
    "plt.plot(losses_1)\n",
    "# plt.plot(losses_2)\n",
    "# plt.xlabel(...)\n",
    "# plt.ylabel(...)\n",
    "# plt.legend()"
   ]
  },
  {
   "cell_type": "markdown",
   "metadata": {},
   "source": [
    "### Task 8. Better pay twice (2 points)\n",
    "\n",
    "Sometimes it is essential to alter the loss function and make it assymetric. Normally, it is motivated by the task itself. For instance, in our case assume that one uses our prediction to bid for an apartment: hence if our $\\hat{y}>y$ then we will overpay, but if $\\hat{y}<y$ we will not get an apartment, but also won't lose any money. \n",
    "\n",
    "Let us introduce our new function:\n",
    "$$\n",
    "Loss(\\vec{w})=\\frac{1}{N}\\sum_{i=1}^N \\begin{cases} a(y_i-\\hat{y}_i)^2, \\quad y_i>\\hat{y}_i \\\\ b(y_i-\\hat{y}_i)^2, \\quad y_i\\le\\hat{y}_i \\end{cases}\n",
    "$$\n",
    "\n",
    "Implement new loss and new gradient:"
   ]
  },
  {
   "cell_type": "code",
   "execution_count": null,
   "metadata": {},
   "outputs": [],
   "source": [
    "def new_loss(w, X, y, a, b):\n",
    "    #your code goes here\n",
    "  \n",
    "    return lossValue\n",
    "\n",
    "def new_grad(w_k, X, y, a, b):\n",
    "    #your code goes here\n",
    "    \n",
    "    return lossGradient"
   ]
  },
  {
   "cell_type": "markdown",
   "metadata": {},
   "source": [
    "Run the following cells to automatically check results of your code."
   ]
  },
  {
   "cell_type": "code",
   "execution_count": null,
   "metadata": {},
   "outputs": [],
   "source": [
    "## GRADED PART, DO NOT CHANGE!\n",
    "grader.set_answer(\"vjKMj\", grading_utils.test_new_loss(new_loss, X, datY))"
   ]
  },
  {
   "cell_type": "code",
   "execution_count": null,
   "metadata": {},
   "outputs": [],
   "source": [
    "# you can make submission with answers so far to check yourself at this stage\n",
    "grader.submit(COURSERA_EMAIL, COURSERA_TOKEN)"
   ]
  },
  {
   "cell_type": "markdown",
   "metadata": {},
   "source": [
    "Run the following cells to automatically check results of your code."
   ]
  },
  {
   "cell_type": "code",
   "execution_count": null,
   "metadata": {},
   "outputs": [],
   "source": [
    "## GRADED PART, DO NOT CHANGE!\n",
    "grader.set_answer(\"uWwHK\", grading_utils.test_new_grad(new_grad, X, datY))"
   ]
  },
  {
   "cell_type": "code",
   "execution_count": null,
   "metadata": {},
   "outputs": [],
   "source": [
    "# you can make submission with answers so far to check yourself at this stage\n",
    "grader.submit(COURSERA_EMAIL, COURSERA_TOKEN)"
   ]
  },
  {
   "cell_type": "markdown",
   "metadata": {},
   "source": [
    "Now let us experiment with new functions (**2 points**)\n",
    "\n",
    "1. Assume your data was normalised (otherwise repeat **Task 6**)\n",
    "2. Select at least two pairs of $(a,b)$ parameters such that $a_1/b_1>1$ and $a_2/b_2<1$\n",
    "3. Run **gradient descent** with new function and given parameters\n",
    "4. Make a `loss` plot for each expriment (please, provide legend!)\n",
    "5. Check whether you've got coinciding weights and _illustrate_ it\n",
    "\n",
    "You may also alter $\\alpha$ and provide more experiments on composite relation between $a/b$ and $\\alpha$ values (_optional_)."
   ]
  },
  {
   "cell_type": "code",
   "execution_count": null,
   "metadata": {},
   "outputs": [],
   "source": [
    "# your code goes here"
   ]
  },
  {
   "cell_type": "markdown",
   "metadata": {},
   "source": [
    "### Task 10. Discussion (1 point)\n",
    "Answer following questions:\n",
    "1. Have you managed to get sufficiently different weights with different $\\alpha$ or $(a,b)$ parameters of assymetry? What does it mean?\n",
    "2. Assume $a$ and $b$ are not given by the task and you need to choose them with the data. Propose a strategy of doing that (assume $a=1$ and choosing only $b$)."
   ]
  },
  {
   "cell_type": "markdown",
   "metadata": {},
   "source": [
    "1.\n",
    "\n",
    "2.\n"
   ]
  }
 ],
 "metadata": {
  "kernelspec": {
   "display_name": "Python 3",
   "language": "python",
   "name": "python3"
  },
  "language_info": {
   "codemirror_mode": {
    "name": "ipython",
    "version": 3
   },
   "file_extension": ".py",
   "mimetype": "text/x-python",
   "name": "python",
   "nbconvert_exporter": "python",
   "pygments_lexer": "ipython3",
   "version": "3.6.9"
  }
 },
 "nbformat": 4,
 "nbformat_minor": 4
}
